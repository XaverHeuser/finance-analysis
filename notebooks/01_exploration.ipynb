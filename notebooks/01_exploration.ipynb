{
 "cells": [
  {
   "cell_type": "code",
   "execution_count": null,
   "id": "34bdbb94",
   "metadata": {},
   "outputs": [],
   "source": [
    "import logging\n",
    "from pathlib import Path\n",
    "import re\n",
    "\n",
    "import pandas as pd\n",
    "import pdfplumber"
   ]
  },
  {
   "cell_type": "code",
   "execution_count": null,
   "id": "b2ac698c",
   "metadata": {},
   "outputs": [],
   "source": [
    "credentials_path = Path('../credentials/cool-plasma-452619-v4-feb20b70d461.json')\n",
    "downloads_path = Path.home() / 'Downloads'"
   ]
  },
  {
   "cell_type": "code",
   "execution_count": null,
   "id": "af5b3d9f",
   "metadata": {},
   "outputs": [],
   "source": [
    "def get_all_account_statement_files(downloads_path: Path) -> list[Path]:\n",
    "    \"\"\"Get all the account statement files from the downloads folder.\"\"\"\n",
    "    return [\n",
    "        file\n",
    "        for file in downloads_path.iterdir()\n",
    "        if 'Kontoauszug' in file.name and file.is_file()\n",
    "    ]"
   ]
  },
  {
   "cell_type": "code",
   "execution_count": null,
   "id": "47400f16",
   "metadata": {},
   "outputs": [],
   "source": [
    "files = get_all_account_statement_files(downloads_path)\n",
    "files"
   ]
  },
  {
   "cell_type": "code",
   "execution_count": null,
   "id": "7ae0009c",
   "metadata": {},
   "outputs": [],
   "source": [
    "file_path = downloads_path / files[0]\n",
    "print(file_path)"
   ]
  },
  {
   "cell_type": "code",
   "execution_count": null,
   "id": "76feea43",
   "metadata": {},
   "outputs": [],
   "source": [
    "def extract_text_from_pdf(pdf_path: Path) -> str:\n",
    "    \"\"\"Extract the text from a pdf file.\"\"\"\n",
    "    if not pdf_path.exists():\n",
    "        logging.error(f'File could not be found: {pdf_path}')\n",
    "        return ''\n",
    "\n",
    "    full_pdf_text = ''\n",
    "\n",
    "    try:\n",
    "        with pdfplumber.open(pdf_path) as pdf:\n",
    "            for page in pdf.pages:\n",
    "                full_pdf_text += page.extract_text(extraction_mode='layout')\n",
    "    except Exception as e:\n",
    "        logging.error(f'An unexpected error occurred while reading {pdf_path}: {e}')\n",
    "\n",
    "    return full_pdf_text"
   ]
  },
  {
   "cell_type": "code",
   "execution_count": null,
   "id": "a5fb800c",
   "metadata": {},
   "outputs": [],
   "source": [
    "full_pdf_text = extract_text_from_pdf(file_path)\n",
    "lines = full_pdf_text.split('\\n')"
   ]
  },
  {
   "cell_type": "code",
   "execution_count": null,
   "id": "f0d60946",
   "metadata": {},
   "outputs": [],
   "source": [
    "full_pdf_text"
   ]
  },
  {
   "cell_type": "code",
   "execution_count": null,
   "id": "cea8ed81",
   "metadata": {},
   "outputs": [],
   "source": [
    "lines[6]"
   ]
  },
  {
   "cell_type": "code",
   "execution_count": null,
   "id": "865e213e",
   "metadata": {},
   "outputs": [],
   "source": [
    "def extract_balance_from_line(line: str) -> float:\n",
    "    \"\"\"Extract the balance from a line of text.\"\"\"\n",
    "    try:\n",
    "        parts = line.split(' ')\n",
    "        balance_str = parts[-2]\n",
    "        balance_str = balance_str.replace('.', '').replace(',', '.')\n",
    "        return float(balance_str)\n",
    "    except (IndexError, ValueError) as e:\n",
    "        logging.error(\n",
    "            f'An error occurred when trying to extract the balance of a line: {line}. Fehler: {e}'\n",
    "        )\n",
    "        return 0.0\n",
    "    \n",
    "\n",
    "# def get_balance_of_account(lines: list, balance_type: str) -> tuple:\n",
    "#     \"\"\"Get a balance (old or new) of an account.\"\"\"\n",
    "#     balance_line = next((line for line in lines if balance_type in line), None)\n",
    "\n",
    "#     if balance_line:\n",
    "#         balance_float = extract_balance_from_line(balance_line)\n",
    "#         balance_idx = lines.index(balance_line)\n",
    "#         return balance_float, balance_idx\n",
    "#     else:\n",
    "#         logging.error(f'{balance_type} not found.')\n",
    "#         return 0.0, -1\n",
    "\n",
    "def get_balance_of_account(lines: list, balance_type: str) -> list:\n",
    "    \"\"\"Get all balances (old or new) of an account.\"\"\"\n",
    "    results = []\n",
    "    for idx, line in enumerate(lines):\n",
    "        if balance_type in line:\n",
    "            balance_float = extract_balance_from_line(line)\n",
    "            results.append((balance_float, idx))\n",
    "    if not results:\n",
    "        logging.error(f'{balance_type} not found.')\n",
    "    else:\n",
    "        if balance_type == 'neuer Kontostand':\n",
    "            results = results[-1]\n",
    "        if balance_type == 'alter Kontostand':\n",
    "            results = results[0]\n",
    "    return results\n",
    "\n"
   ]
  },
  {
   "cell_type": "code",
   "execution_count": null,
   "id": "d6c0282e",
   "metadata": {},
   "outputs": [],
   "source": [
    "def get_all_transactions(\n",
    "    lines: list, old_balance_idx: int, new_balance_idx: int\n",
    ") -> list:\n",
    "    \"\"\"Extract all transactions from an account statement between two index markers.\"\"\"\n",
    "    print(lines)\n",
    "    print(old_balance_idx)\n",
    "    transactions_part = lines[old_balance_idx + 1 : new_balance_idx]\n",
    "    print(transactions_part)\n",
    "    pattern_transaction_start = re.compile(r'\\d{2}\\.\\d{2}\\. \\d{2}\\.\\d{2}\\.')\n",
    "    pattern_transaction_start_alt = re.compile(r'Übertrag')\n",
    "\n",
    "    transactions = []\n",
    "    current_transaction = []\n",
    "\n",
    "    for line in transactions_part:\n",
    "        # If line starts with Übertrag or with pattern_transaction_start, then it is a new transaction\n",
    "        if pattern_transaction_start_alt.match(line) or pattern_transaction_start.match(\n",
    "            line\n",
    "        ):\n",
    "            transactions.append(current_transaction)\n",
    "            current_transaction = []\n",
    "        current_transaction.append(line)\n",
    "\n",
    "    transactions.append(current_transaction)  # Append the last transaction\n",
    "\n",
    "    print(transactions)\n",
    "    transactions = transactions[1:]  # Remove the empty first transaction\n",
    "\n",
    "    # Filter out transactions that start with 'Übertrag'\n",
    "    transactions = [\n",
    "        txn for txn in transactions if not pattern_transaction_start_alt.match(txn[0])\n",
    "    ]\n",
    "\n",
    "    for txn in transactions:\n",
    "        # Append all lines after line 2 (name) and keep only the first two lines\n",
    "        if len(txn) > 2:\n",
    "            txn[2] = ''.join(txn[1:])\n",
    "            del txn[3:]\n",
    "\n",
    "    return transactions"
   ]
  },
  {
   "cell_type": "code",
   "execution_count": null,
   "id": "9283ded9",
   "metadata": {},
   "outputs": [],
   "source": [
    "results_old = get_balance_of_account(lines, 'alter Kontostand')\n",
    "results_new = get_balance_of_account(lines, 'neuer Kontostand')\n",
    "print(results_new)\n",
    "print(results_old)\n",
    "\n",
    "all_transactions = get_all_transactions(lines, results_old[1], results_new[1])\n",
    "print(f'Anzahl der Transaktionen: {len(all_transactions)}')"
   ]
  },
  {
   "cell_type": "code",
   "execution_count": null,
   "id": "ef9a37f1",
   "metadata": {},
   "outputs": [],
   "source": [
    "from googleapiclient.discovery import build\n",
    "import gspread\n",
    "from gspread import Client, Spreadsheet, Worksheet\n",
    "from oauth2client.service_account import ServiceAccountCredentials\n",
    "\n",
    "\n",
    "SCOPE_GOOGLE_DRIVE = [\n",
    "    'https://spreadsheets.google.com/feeds',\n",
    "    'https://www.googleapis.com/auth/drive',\n",
    "    'https://www.googleapis.com/auth/drive.file',\n",
    "]\n",
    "\n",
    "\n",
    "def set_up_google_connection(credentials_path=None):\n",
    "    \"\"\"Set up the Google connection using service account credentials.\"\"\"\n",
    "    if credentials_path is None:\n",
    "        raise ValueError('Credential path is required')\n",
    "\n",
    "    creds = ServiceAccountCredentials.from_json_keyfile_name(\n",
    "        credentials_path, SCOPE_GOOGLE_DRIVE\n",
    "    )\n",
    "    client = gspread.authorize(creds)\n",
    "    service = build('drive', 'v3', credentials=creds)\n",
    "\n",
    "    return client, service"
   ]
  },
  {
   "cell_type": "code",
   "execution_count": null,
   "id": "743ee824",
   "metadata": {},
   "outputs": [],
   "source": [
    "client, service = set_up_google_connection(credentials_path)"
   ]
  },
  {
   "cell_type": "code",
   "execution_count": null,
   "id": "ded82c00",
   "metadata": {},
   "outputs": [],
   "source": [
    "spreadsheet = client.open_by_key(\"1OnrW1foE-1lOtgfxBv2Y5qqJSDnW4hiYeLpScjgFKxM\")\n",
    "sheet = spreadsheet.sheet1\n",
    "\n",
    "sheet_incomes = spreadsheet.worksheet('Einnahmen')\n",
    "sheet_expenses = spreadsheet.worksheet('Ausgaben')\n",
    "\n",
    "df_expenses = pd.DataFrame(sheet_expenses.get_all_values())\n",
    "df_incomes = pd.DataFrame(sheet_incomes.get_all_values())"
   ]
  },
  {
   "cell_type": "code",
   "execution_count": null,
   "id": "2551b7f1",
   "metadata": {},
   "outputs": [],
   "source": [
    "df_expenses.columns = df_expenses.iloc[0]\n",
    "df_expenses = df_expenses[1:].reset_index(drop=True)\n",
    "\n",
    "df_incomes.columns = df_incomes.iloc[0]\n",
    "df_incomes = df_incomes[1:].reset_index(drop=True)\n",
    "\n",
    "gsheets = {'Expense': df_expenses, 'Income': df_incomes}"
   ]
  },
  {
   "cell_type": "code",
   "execution_count": null,
   "id": "641783f8",
   "metadata": {},
   "outputs": [],
   "source": [
    "gsheets['Income']"
   ]
  },
  {
   "cell_type": "code",
   "execution_count": null,
   "id": "3278220c",
   "metadata": {},
   "outputs": [],
   "source": [
    "gsheets['Expense']"
   ]
  },
  {
   "cell_type": "code",
   "execution_count": null,
   "id": "2a7b156b",
   "metadata": {},
   "outputs": [],
   "source": [
    "def check_income_or_expense(transaction: list[str]) -> str:\n",
    "    \"\"\"Check if the transaction is an income or an expense based on its first line.\"\"\"\n",
    "    if not transaction:\n",
    "        return 'Unknown'\n",
    "\n",
    "    line = transaction[0]\n",
    "    if re.match(r'.*S$', line):\n",
    "        return 'Expense'\n",
    "    elif re.match(r'.*H$', line):\n",
    "        return 'Income'\n",
    "    return 'Unknown'\n",
    "\n",
    "\n",
    "def get_transaction_value(transaction: list) -> float:\n",
    "    \"\"\"Get the value of the transaction.\"\"\"\n",
    "    value = transaction[0].split(' ')[-2]\n",
    "    value_float = float(value.replace('.', '').replace(',', '.'))\n",
    "\n",
    "    return value_float\n",
    "\n",
    "\n",
    "def open_gsheet_from_file_name(\n",
    "    client: Client, acc_num: str, secrets: dict\n",
    ") -> Spreadsheet:\n",
    "    \"\"\"Get the Google Sheet from the file name.\"\"\"\n",
    "    for _object_id, obj_data in secrets['objects'].items():\n",
    "        if obj_data['account_statement_id'] == acc_num:\n",
    "            spreadsheet_id = obj_data['spreadsheet_id']\n",
    "            return client.open_by_key(spreadsheet_id)\n",
    "\n",
    "    raise ValueError(f'No object found for account number: {acc_num}')\n",
    "\n",
    "\n",
    "\n",
    "def get_first_information_about_transaction(\n",
    "    transaction: list, gsheets: dict\n",
    ") -> tuple[str, pandas.DataFrame, str, float, str]:\n",
    "    \"\"\"Return transaction type, DataFrame, name, value, and month.\"\"\"\n",
    "    logging.info(f'Checking transaction {transaction}...')\n",
    "    transaction_type = check_income_or_expense(transaction)\n",
    "\n",
    "    df = (\n",
    "        gsheets['Expense']\n",
    "        if transaction_type == 'Expense'\n",
    "        else gsheets['Income']\n",
    "        if transaction_type == 'Income'\n",
    "        else None\n",
    "    )\n",
    "\n",
    "    if df is None:\n",
    "        raise ValueError(f'Unknown transaction type: {transaction_type}')\n",
    "\n",
    "    transaction_value = get_transaction_value(transaction)\n",
    "    name = transaction[1].strip() if len(transaction) > 1 else 'Monatsabschluss Bank'\n",
    "    month = transaction[0].split('.')[1]\n",
    "\n",
    "    return transaction_type, df, name, transaction_value, month\n",
    "\n",
    "\n",
    "\n",
    "def add_new_row(\n",
    "    df: pd.DataFrame,\n",
    "    name: str,\n",
    "    month: str,\n",
    "    transaction_value: float,\n",
    "    transaction_type: str,\n",
    "    sheets: dict,\n",
    "    general_account: bool = False,\n",
    ") -> None:\n",
    "    \"\"\"Add a new transaction row to the DataFrame.\"\"\"\n",
    "    print(\"hi\")\n",
    "    new_row_data = [name] + [None] * (len(df.columns) - 1)\n",
    "    new_row = pd.DataFrame([new_row_data], columns=df.columns)\n",
    "\n",
    "    df = pd.concat([df, new_row], ignore_index=True)\n",
    "    new_row_index = df.index[-1]\n",
    "\n",
    "    df.loc[new_row_index, month] = transaction_value\n",
    "\n",
    "    if general_account and transaction_type == 'Expense':\n",
    "        df.loc[new_row_index, 'Umlegbar'] = 'Nein'\n",
    "\n",
    "    if transaction_type == 'Income' and 'Mieter' in df.columns:\n",
    "        df.loc[new_row_index, 'Mieter'] = 'Nein'\n",
    "\n",
    "    if transaction_type == 'Expense':\n",
    "        sheets['Expense'] = df\n",
    "    else:\n",
    "        sheets['Income'] = df"
   ]
  },
  {
   "cell_type": "code",
   "execution_count": null,
   "id": "6e462ab6",
   "metadata": {},
   "outputs": [],
   "source": [
    "for transaction_index in range(len(all_transactions)):\n",
    "    transaction = all_transactions[transaction_index]\n",
    "\n",
    "    transaction_type, df, name, transaction_value, month = (\n",
    "        get_first_information_about_transaction(transaction, gsheets)\n",
    "    )\n",
    "\n",
    "    add_new_row(\n",
    "        df,\n",
    "        name,\n",
    "        month,\n",
    "        transaction_value,\n",
    "        transaction_type,\n",
    "        gsheets,\n",
    "        general_account=True,\n",
    "    )"
   ]
  },
  {
   "cell_type": "code",
   "execution_count": null,
   "id": "ce896cb4",
   "metadata": {},
   "outputs": [],
   "source": [
    "gsheets['Income']"
   ]
  },
  {
   "cell_type": "code",
   "execution_count": null,
   "id": "7451380d",
   "metadata": {},
   "outputs": [],
   "source": [
    "gsheets['Expense']"
   ]
  },
  {
   "cell_type": "code",
   "execution_count": null,
   "id": "7b484df1",
   "metadata": {},
   "outputs": [],
   "source": [
    "from gspread_dataframe import set_with_dataframe\n",
    "\n",
    "def update_google_sheet(sheet: Worksheet, df: pd.DataFrame) -> None:\n",
    "    \"\"\"Write a DataFrame to a Google Sheet while preserving header formatting.\"\"\"\n",
    "    set_with_dataframe(\n",
    "        sheet,\n",
    "        df,\n",
    "        row=2,  # Start writing from row 2\n",
    "        col=1,  # Start at column A\n",
    "        include_index=False,\n",
    "        include_column_header=False,  # Preserve row 1 (do not overwrite headers)\n",
    "        resize=False,  # Preserve sheet formatting\n",
    "    )"
   ]
  },
  {
   "cell_type": "code",
   "execution_count": null,
   "id": "25930fdf",
   "metadata": {},
   "outputs": [],
   "source": [
    "update_google_sheet(sheet_expenses, gsheets['Expense'])\n",
    "update_google_sheet(sheet_incomes, gsheets['Income'])\n",
    "print('✅ All changes saved to Google Sheets!')"
   ]
  }
 ],
 "metadata": {
  "kernelspec": {
   "display_name": ".venv",
   "language": "python",
   "name": "python3"
  },
  "language_info": {
   "codemirror_mode": {
    "name": "ipython",
    "version": 3
   },
   "file_extension": ".py",
   "mimetype": "text/x-python",
   "name": "python",
   "nbconvert_exporter": "python",
   "pygments_lexer": "ipython3",
   "version": "3.12.9"
  }
 },
 "nbformat": 4,
 "nbformat_minor": 5
}
