{
 "cells": [
  {
   "cell_type": "code",
   "execution_count": null,
   "id": "34bdbb94",
   "metadata": {},
   "outputs": [],
   "source": [
    "import sys\n",
    "import os\n",
    "from pathlib import Path\n",
    "\n",
    "import pandas as pd\n",
    "\n",
    "sys.path.append(os.path.abspath(os.path.join(os.getcwd(), \"..\")))\n",
    "\n",
    "from src.utils.data_extracting import get_all_account_statement_files, extract_text_from_pdf, get_balance_of_account, get_all_transactions\n",
    "from src.utils.data_loading import update_google_sheet\n",
    "from src.utils.data_transforming import extract_transaction_info, add_new_row\n",
    "from src.utils.google_connection import set_up_google_connection"
   ]
  },
  {
   "cell_type": "markdown",
   "id": "4c36aa9e",
   "metadata": {},
   "source": [
    "# Get files"
   ]
  },
  {
   "cell_type": "code",
   "execution_count": null,
   "id": "b2ac698c",
   "metadata": {},
   "outputs": [],
   "source": [
    "credentials_path = Path('../credentials/cool-plasma-452619-v4-feb20b70d461.json')\n",
    "downloads_path = Path.home() / 'Downloads'"
   ]
  },
  {
   "cell_type": "code",
   "execution_count": null,
   "id": "47400f16",
   "metadata": {},
   "outputs": [],
   "source": [
    "files = get_all_account_statement_files(downloads_path)\n",
    "files"
   ]
  },
  {
   "cell_type": "code",
   "execution_count": null,
   "id": "7ae0009c",
   "metadata": {},
   "outputs": [],
   "source": [
    "for file in files:\n",
    "    print(file)"
   ]
  },
  {
   "cell_type": "code",
   "execution_count": null,
   "id": "a5fb800c",
   "metadata": {},
   "outputs": [],
   "source": [
    "file_path = files[1]\n",
    "full_pdf_text = extract_text_from_pdf(file_path)\n",
    "lines = full_pdf_text.split('\\n')"
   ]
  },
  {
   "cell_type": "code",
   "execution_count": null,
   "id": "9283ded9",
   "metadata": {},
   "outputs": [],
   "source": [
    "acc_balance_old = get_balance_of_account(lines, 'alter Kontostand')\n",
    "acc_balance_new = get_balance_of_account(lines, 'neuer Kontostand')\n",
    "print(f'Old acc value, Value: {acc_balance_old[0]}€ - Line-Index: {acc_balance_old[1]}')\n",
    "print(f'New acc value, Value: {acc_balance_new[0]}€ - Line-Index: {acc_balance_new[1]}')\n",
    "\n",
    "all_transactions = get_all_transactions(lines, acc_balance_old[1], acc_balance_new[1])\n",
    "print(f'Count of transactions: {len(all_transactions)}')"
   ]
  },
  {
   "cell_type": "markdown",
   "id": "ad0b9ce8",
   "metadata": {},
   "source": [
    "# Google Connection"
   ]
  },
  {
   "cell_type": "code",
   "execution_count": null,
   "id": "743ee824",
   "metadata": {},
   "outputs": [],
   "source": [
    "client, service = set_up_google_connection(credentials_path)"
   ]
  },
  {
   "cell_type": "code",
   "execution_count": null,
   "id": "ded82c00",
   "metadata": {},
   "outputs": [],
   "source": [
    "spreadsheet = client.open_by_key(\"1OnrW1foE-1lOtgfxBv2Y5qqJSDnW4hiYeLpScjgFKxM\") # TODO: Put in secrets/env\n",
    "\n",
    "sheet_incomes = spreadsheet.worksheet('Einnahmen')\n",
    "sheet_expenses = spreadsheet.worksheet('Ausgaben')\n",
    "\n",
    "df_expenses = pd.DataFrame(sheet_expenses.get_all_values())\n",
    "df_incomes = pd.DataFrame(sheet_incomes.get_all_values())"
   ]
  },
  {
   "cell_type": "code",
   "execution_count": null,
   "id": "2551b7f1",
   "metadata": {},
   "outputs": [],
   "source": [
    "df_expenses.columns = df_expenses.iloc[0]\n",
    "df_expenses = df_expenses[1:].reset_index(drop=True)\n",
    "\n",
    "df_incomes.columns = df_incomes.iloc[0]\n",
    "df_incomes = df_incomes[1:].reset_index(drop=True)\n",
    "\n",
    "gsheets = {'Expense': df_expenses, 'Income': df_incomes}"
   ]
  },
  {
   "cell_type": "code",
   "execution_count": null,
   "id": "641783f8",
   "metadata": {},
   "outputs": [],
   "source": [
    "gsheets['Income']"
   ]
  },
  {
   "cell_type": "code",
   "execution_count": null,
   "id": "3278220c",
   "metadata": {},
   "outputs": [],
   "source": [
    "gsheets['Expense']"
   ]
  },
  {
   "cell_type": "code",
   "execution_count": null,
   "id": "6e462ab6",
   "metadata": {},
   "outputs": [],
   "source": [
    "for transaction_index in range(len(all_transactions)):\n",
    "    transaction = all_transactions[transaction_index]\n",
    "\n",
    "    transaction_type, df, name, transaction_value, month = (\n",
    "        extract_transaction_info(transaction, gsheets)\n",
    "    )\n",
    "\n",
    "    add_new_row(\n",
    "        df,\n",
    "        name,\n",
    "        month,\n",
    "        transaction_value,\n",
    "        transaction_type,\n",
    "        gsheets,\n",
    "        general_account=True,\n",
    "    )"
   ]
  },
  {
   "cell_type": "code",
   "execution_count": null,
   "id": "ce896cb4",
   "metadata": {},
   "outputs": [],
   "source": [
    "gsheets['Income']"
   ]
  },
  {
   "cell_type": "code",
   "execution_count": null,
   "id": "7451380d",
   "metadata": {},
   "outputs": [],
   "source": [
    "gsheets['Expense']"
   ]
  },
  {
   "cell_type": "markdown",
   "id": "e7cfa95b",
   "metadata": {},
   "source": [
    "# Load data into Google Sheet"
   ]
  },
  {
   "cell_type": "code",
   "execution_count": null,
   "id": "25930fdf",
   "metadata": {},
   "outputs": [],
   "source": [
    "update_google_sheet(sheet_expenses, gsheets['Expense'])\n",
    "update_google_sheet(sheet_incomes, gsheets['Income'])\n",
    "print('✅ All changes saved to Google Sheets!')"
   ]
  }
 ],
 "metadata": {
  "kernelspec": {
   "display_name": ".venv",
   "language": "python",
   "name": "python3"
  },
  "language_info": {
   "codemirror_mode": {
    "name": "ipython",
    "version": 3
   },
   "file_extension": ".py",
   "mimetype": "text/x-python",
   "name": "python",
   "nbconvert_exporter": "python",
   "pygments_lexer": "ipython3",
   "version": "3.12.9"
  }
 },
 "nbformat": 4,
 "nbformat_minor": 5
}
