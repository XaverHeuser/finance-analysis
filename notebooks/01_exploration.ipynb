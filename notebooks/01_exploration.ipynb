{
 "cells": [
  {
   "cell_type": "code",
   "execution_count": null,
   "id": "34bdbb94",
   "metadata": {},
   "outputs": [],
   "source": [
    "import os\n",
    "from pathlib import Path\n",
    "import sys\n",
    "\n",
    "from dotenv import load_dotenv\n",
    "import pandas as pd\n",
    "\n",
    "\n",
    "sys.path.append(os.path.abspath(os.path.join(os.getcwd(), '..')))\n",
    "\n",
    "from src.domain.balances import get_balances_of_account\n",
    "from src.domain.transactions import get_all_transactions\n",
    "from src.infrastructure.google_sheets import update_google_sheet\n",
    "from src.infrastructure.local_storage import get_all_acc_states_from_local_storage\n",
    "from src.infrastructure.pdf_parser import (\n",
    "    extract_pdf_lines,\n",
    "    extract_text_from_pdf_in_local,\n",
    ")"
   ]
  },
  {
   "cell_type": "markdown",
   "id": "4c36aa9e",
   "metadata": {},
   "source": [
    "# Get files"
   ]
  },
  {
   "cell_type": "code",
   "execution_count": null,
   "id": "b2ac698c",
   "metadata": {},
   "outputs": [],
   "source": [
    "credentials_path = Path('../credentials/cool-plasma-452619-v4-feb20b70d461.json')\n",
    "downloads_path = Path.home() / 'Downloads'"
   ]
  },
  {
   "cell_type": "code",
   "execution_count": null,
   "id": "47400f16",
   "metadata": {},
   "outputs": [],
   "source": [
    "files = get_all_acc_states_from_local_storage(downloads_path)\n",
    "files"
   ]
  },
  {
   "cell_type": "code",
   "execution_count": null,
   "id": "7ae0009c",
   "metadata": {},
   "outputs": [],
   "source": [
    "for file in files:\n",
    "    print(file)"
   ]
  },
  {
   "cell_type": "code",
   "execution_count": null,
   "id": "a5fb800c",
   "metadata": {},
   "outputs": [],
   "source": [
    "file_path = files[1]\n",
    "full_pdf_text = extract_text_from_pdf_in_local(file_path)\n",
    "lines = extract_pdf_lines(full_pdf_text)"
   ]
  },
  {
   "cell_type": "code",
   "execution_count": null,
   "id": "9283ded9",
   "metadata": {},
   "outputs": [],
   "source": [
    "old_balance_index, new_balance_index = get_balances_of_account(lines)\n",
    "all_transactions = get_all_transactions(lines, old_balance_index, new_balance_index)"
   ]
  },
  {
   "cell_type": "markdown",
   "id": "ad0b9ce8",
   "metadata": {},
   "source": [
    "# Google Connection"
   ]
  },
  {
   "cell_type": "code",
   "execution_count": null,
   "id": "743ee824",
   "metadata": {},
   "outputs": [],
   "source": [
    "from infrastructure.google_auth import get_google_clients\n",
    "\n",
    "\n",
    "client, service = get_google_clients(credentials_path)\n",
    "load_dotenv()\n",
    "SPREADSHEET_ID = os.getenv('SPREADSHEET_ID')"
   ]
  },
  {
   "cell_type": "code",
   "execution_count": null,
   "id": "ded82c00",
   "metadata": {},
   "outputs": [],
   "source": [
    "spreadsheet = client.open_by_key(SPREADSHEET_ID)\n",
    "\n",
    "sheet_transactions = spreadsheet.worksheet('Ausgaben')\n",
    "\n",
    "df_transactions = pd.DataFrame(sheet_transactions.get_all_values())\n",
    "df_transactions.columns = df_transactions.iloc[0]\n",
    "df_transactions = df_transactions[1:].reset_index(drop=True)"
   ]
  },
  {
   "cell_type": "code",
   "execution_count": null,
   "id": "3278220c",
   "metadata": {},
   "outputs": [],
   "source": [
    "df_transactions.head()"
   ]
  },
  {
   "cell_type": "code",
   "execution_count": null,
   "id": "2a4ca682",
   "metadata": {},
   "outputs": [],
   "source": [
    "from domain.files import get_year_from_file_name\n",
    "\n",
    "\n",
    "acc_state_year = get_year_from_file_name(all_transactions[0]['name'])"
   ]
  },
  {
   "cell_type": "code",
   "execution_count": null,
   "id": "6e462ab6",
   "metadata": {},
   "outputs": [],
   "source": [
    "from domain.transactions import append_transaction, extract_transaction_info\n",
    "\n",
    "\n",
    "for transaction_index in range(len(all_transactions)):\n",
    "    transaction = all_transactions[transaction_index]\n",
    "\n",
    "    # Extract transaction info\n",
    "    t_name, t_value, t_type, t_date = extract_transaction_info(\n",
    "        transaction, acc_state_year\n",
    "    )\n",
    "\n",
    "    # Add new row to dataframe\n",
    "    append_transaction(df_transactions, t_name, t_value, t_type, t_date)"
   ]
  },
  {
   "cell_type": "markdown",
   "id": "e7cfa95b",
   "metadata": {},
   "source": [
    "# Load data into Google Sheet"
   ]
  },
  {
   "cell_type": "code",
   "execution_count": null,
   "id": "25930fdf",
   "metadata": {},
   "outputs": [],
   "source": [
    "update_google_sheet(sheet_transactions, df_transactions)\n",
    "print('✅ All changes saved to Google Sheets!')"
   ]
  }
 ],
 "metadata": {
  "kernelspec": {
   "display_name": ".venv",
   "language": "python",
   "name": "python3"
  },
  "language_info": {
   "codemirror_mode": {
    "name": "ipython",
    "version": 3
   },
   "file_extension": ".py",
   "mimetype": "text/x-python",
   "name": "python",
   "nbconvert_exporter": "python",
   "pygments_lexer": "ipython3",
   "version": "3.12.9"
  }
 },
 "nbformat": 4,
 "nbformat_minor": 5
}
