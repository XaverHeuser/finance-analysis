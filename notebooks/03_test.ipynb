{
 "cells": [
  {
   "cell_type": "code",
   "execution_count": null,
   "id": "ea62569f",
   "metadata": {},
   "outputs": [],
   "source": [
    "import os\n",
    "from pathlib import Path\n",
    "import sys\n",
    "\n",
    "from dotenv import load_dotenv\n",
    "import pandas as pd\n",
    "\n",
    "\n",
    "sys.path.append(os.path.abspath(os.path.join(os.getcwd(), '..')))\n",
    "\n",
    "from src.utils.google_services import set_up_google_connection\n",
    "\n",
    "from src.utils.data_extracting import (\n",
    "    extract_text_from_pdf,\n",
    "    get_acc_files_from_gdrive_folder,\n",
    "    get_all_transactions,\n",
    "    get_balance_of_account,\n",
    "    move_file,\n",
    ")\n",
    "from src.utils.data_loading import update_google_sheet\n",
    "from src.utils.data_transforming import add_new_row, extract_transaction_info"
   ]
  },
  {
   "cell_type": "code",
   "execution_count": null,
   "id": "40a83689",
   "metadata": {},
   "outputs": [],
   "source": [
    "credentials_path = Path('../credentials/cool-plasma-452619-v4-feb20b70d461.json')"
   ]
  },
  {
   "cell_type": "code",
   "execution_count": null,
   "id": "fb7c1d72",
   "metadata": {},
   "outputs": [],
   "source": [
    "client, service = set_up_google_connection(credentials_path)\n",
    "\n",
    "load_dotenv()\n",
    "SPREADSHEET_ID = os.getenv('SPREADSHEET_2024_ID')\n",
    "TEMP_FOLDER_ID = os.getenv('TEMP_FOLDER_ID')"
   ]
  },
  {
   "cell_type": "code",
   "execution_count": null,
   "id": "039c2138",
   "metadata": {},
   "outputs": [],
   "source": [
    "acc_states = get_acc_files_from_gdrive_folder(TEMP_FOLDER_ID, service)"
   ]
  },
  {
   "cell_type": "markdown",
   "id": "f38a5d46",
   "metadata": {},
   "source": [
    "# Read file"
   ]
  },
  {
   "cell_type": "code",
   "execution_count": null,
   "id": "e760275b",
   "metadata": {},
   "outputs": [],
   "source": [
    "file_id = acc_states[0]['id']\n",
    "text = extract_text_from_pdf(file_id, service=service)\n",
    "lines = text.split('\\n')\n",
    "len(lines)"
   ]
  },
  {
   "cell_type": "code",
   "execution_count": null,
   "id": "97e35ab2",
   "metadata": {},
   "outputs": [],
   "source": [
    "acc_balance_old = get_balance_of_account(lines, 'alter Kontostand')\n",
    "acc_balance_new = get_balance_of_account(lines, 'neuer Kontostand')\n",
    "print(f'Old acc value, Value: {acc_balance_old[0]}€ - Line-Index: {acc_balance_old[1]}')\n",
    "print(f'New acc value, Value: {acc_balance_new[0]}€ - Line-Index: {acc_balance_new[1]}')\n",
    "\n",
    "all_transactions = get_all_transactions(lines, acc_balance_old[1], acc_balance_new[1])\n",
    "print(f'Count of transactions: {len(all_transactions)}')"
   ]
  },
  {
   "cell_type": "markdown",
   "id": "e20e6400",
   "metadata": {},
   "source": [
    "# Open correct gsheet"
   ]
  },
  {
   "cell_type": "code",
   "execution_count": null,
   "id": "dc293031",
   "metadata": {},
   "outputs": [],
   "source": [
    "year = acc_states[0]['name'].split('_')[1]\n",
    "year"
   ]
  },
  {
   "cell_type": "code",
   "execution_count": null,
   "id": "faf6ec8e",
   "metadata": {},
   "outputs": [],
   "source": [
    "gsheet_file = f'SPREADSHEET_{year}_ID'\n",
    "SPREADSHEET_ID = os.getenv(gsheet_file)\n",
    "print(f'Using spreadsheet ID: {SPREADSHEET_ID}')"
   ]
  },
  {
   "cell_type": "code",
   "execution_count": null,
   "id": "31e2eb49",
   "metadata": {},
   "outputs": [],
   "source": [
    "spreadsheet = client.open_by_key(SPREADSHEET_ID)\n",
    "\n",
    "sheet_incomes = spreadsheet.worksheet('Einnahmen')\n",
    "sheet_expenses = spreadsheet.worksheet('Ausgaben')\n",
    "\n",
    "df_expenses = pd.DataFrame(sheet_expenses.get_all_values())\n",
    "df_incomes = pd.DataFrame(sheet_incomes.get_all_values())"
   ]
  },
  {
   "cell_type": "code",
   "execution_count": null,
   "id": "33686d0f",
   "metadata": {},
   "outputs": [],
   "source": [
    "df_expenses.columns = df_expenses.iloc[0]\n",
    "df_expenses = df_expenses[1:].reset_index(drop=True)\n",
    "\n",
    "df_incomes.columns = df_incomes.iloc[0]\n",
    "df_incomes = df_incomes[1:].reset_index(drop=True)\n",
    "\n",
    "gsheets = {'Expense': df_expenses, 'Income': df_incomes}"
   ]
  },
  {
   "cell_type": "code",
   "execution_count": null,
   "id": "17d85b48",
   "metadata": {},
   "outputs": [],
   "source": [
    "gsheets['Income'].head()"
   ]
  },
  {
   "cell_type": "code",
   "execution_count": null,
   "id": "64821545",
   "metadata": {},
   "outputs": [],
   "source": [
    "month_cols = [f'{i:02}' for i in range(1, 13)]\n",
    "\n",
    "# Alles außer Ziffern und Komma/Punkt rauswerfen, dann zu Zahl\n",
    "gsheets['Income'][month_cols] = (\n",
    "    gsheets['Income'][month_cols]\n",
    "    .replace(r'[^0-9,.-]', '', regex=True)  # Währungen, Leerzeichen, etc. entfernen\n",
    "    .replace(',', '.', regex=True)  # Kommas durch Punkt ersetzen (falls Kommazahlen)\n",
    "    .apply(pd.to_numeric, errors='coerce')  # endlich in float/int umwandeln\n",
    ")\n",
    "\n",
    "# Alles außer Ziffern und Komma/Punkt rauswerfen, dann zu Zahl\n",
    "gsheets['Expense'][month_cols] = (\n",
    "    gsheets['Expense'][month_cols]\n",
    "    .replace(r'[^0-9,.-]', '', regex=True)  # Währungen, Leerzeichen, etc. entfernen\n",
    "    .replace(',', '.', regex=True)  # Kommas durch Punkt ersetzen (falls Kommazahlen)\n",
    "    .apply(pd.to_numeric, errors='coerce')  # endlich in float/int umwandeln\n",
    ")"
   ]
  },
  {
   "cell_type": "code",
   "execution_count": null,
   "id": "d2b9907d",
   "metadata": {},
   "outputs": [],
   "source": [
    "for transaction_index in range(len(all_transactions)):\n",
    "    transaction = all_transactions[transaction_index]\n",
    "\n",
    "    transaction_type, df, name, transaction_value, month = extract_transaction_info(\n",
    "        transaction, gsheets\n",
    "    )\n",
    "\n",
    "    add_new_row(\n",
    "        df,\n",
    "        name,\n",
    "        month,\n",
    "        transaction_value,\n",
    "        transaction_type,\n",
    "        gsheets,\n",
    "        general_account=True,\n",
    "    )"
   ]
  },
  {
   "cell_type": "code",
   "execution_count": null,
   "id": "53ed54da",
   "metadata": {},
   "outputs": [],
   "source": [
    "update_google_sheet(sheet_expenses, gsheets['Expense'])\n",
    "update_google_sheet(sheet_incomes, gsheets['Income'])\n",
    "print('✅ All changes saved to Google Sheets!')"
   ]
  },
  {
   "cell_type": "markdown",
   "id": "678cc577",
   "metadata": {},
   "source": [
    "# Move File"
   ]
  },
  {
   "cell_type": "code",
   "execution_count": null,
   "id": "cc1353b5",
   "metadata": {},
   "outputs": [],
   "source": [
    "# Beispielaufruf\n",
    "file_id = acc_states[0]['id']\n",
    "old_folder_id = TEMP_FOLDER_ID\n",
    "new_folder_id = os.getenv('REGULAR_FOLDER_ID')\n",
    "print(f'Moving file {file_id} from {old_folder_id} to {new_folder_id}')"
   ]
  },
  {
   "cell_type": "code",
   "execution_count": null,
   "id": "f5169036",
   "metadata": {},
   "outputs": [],
   "source": [
    "move_file(file_id, old_folder_id, new_folder_id)"
   ]
  }
 ],
 "metadata": {
  "kernelspec": {
   "display_name": ".venv",
   "language": "python",
   "name": "python3"
  },
  "language_info": {
   "codemirror_mode": {
    "name": "ipython",
    "version": 3
   },
   "file_extension": ".py",
   "mimetype": "text/x-python",
   "name": "python",
   "nbconvert_exporter": "python",
   "pygments_lexer": "ipython3",
   "version": "3.12.9"
  }
 },
 "nbformat": 4,
 "nbformat_minor": 5
}
