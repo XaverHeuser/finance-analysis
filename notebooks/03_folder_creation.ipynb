{
 "cells": [
  {
   "cell_type": "code",
   "execution_count": 9,
   "id": "5dd22b62",
   "metadata": {},
   "outputs": [],
   "source": [
    "import os\n",
    "from pathlib import Path\n",
    "import sys\n",
    "\n",
    "from dotenv import load_dotenv\n",
    "\n",
    "\n",
    "sys.path.append(os.path.abspath(os.path.join(os.getcwd(), '..')))\n",
    "\n",
    "from src.utils.google_connection import set_up_google_connection"
   ]
  },
  {
   "cell_type": "code",
   "execution_count": 10,
   "id": "b6b9aaeb",
   "metadata": {},
   "outputs": [],
   "source": [
    "credentials_path = Path('../credentials/cool-plasma-452619-v4-feb20b70d461.json')"
   ]
  },
  {
   "cell_type": "code",
   "execution_count": 11,
   "id": "b9d46926",
   "metadata": {},
   "outputs": [],
   "source": [
    "client, service = set_up_google_connection(credentials_path)\n",
    "\n",
    "load_dotenv()\n",
    "GENERAL_FOLDER_ID = os.getenv('GENERAL_FOLDER_ID')"
   ]
  },
  {
   "cell_type": "code",
   "execution_count": 12,
   "id": "a49a42c8",
   "metadata": {},
   "outputs": [],
   "source": [
    "folder_metadata = {\n",
    "    'name': 'Test_Folder',\n",
    "    'mimeType': 'application/vnd.google-apps.folder',\n",
    "    'parents': [GENERAL_FOLDER_ID],\n",
    "}"
   ]
  },
  {
   "cell_type": "code",
   "execution_count": null,
   "id": "02661c48",
   "metadata": {},
   "outputs": [],
   "source": [
    "folder = service.files().create(body=folder_metadata, fields='id').execute()"
   ]
  }
 ],
 "metadata": {
  "kernelspec": {
   "display_name": ".venv",
   "language": "python",
   "name": "python3"
  },
  "language_info": {
   "codemirror_mode": {
    "name": "ipython",
    "version": 3
   },
   "file_extension": ".py",
   "mimetype": "text/x-python",
   "name": "python",
   "nbconvert_exporter": "python",
   "pygments_lexer": "ipython3",
   "version": "3.12.9"
  }
 },
 "nbformat": 4,
 "nbformat_minor": 5
}
