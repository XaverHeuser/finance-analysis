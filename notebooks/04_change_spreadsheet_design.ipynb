{
 "cells": [
  {
   "cell_type": "code",
   "execution_count": 1,
   "id": "8452d408",
   "metadata": {},
   "outputs": [],
   "source": [
    "import sys\n",
    "import os\n",
    "from pathlib import Path\n",
    "from typing import Any\n",
    "\n",
    "import pandas as pd\n",
    "\n",
    "sys.path.append(os.path.abspath(os.path.join(os.getcwd(), '..')))\n",
    "\n",
    "from src.utils.google_services import set_up_google_connection\n",
    "from src.utils.data_extracting import get_acc_files_from_gdrive_folder, extract_text_from_pdf, get_balance_of_account, get_all_transactions, check_income_or_expense, get_transaction_value\n"
   ]
  },
  {
   "cell_type": "markdown",
   "id": "93eaaf69",
   "metadata": {},
   "source": [
    "# Functions"
   ]
  },
  {
   "cell_type": "markdown",
   "id": "8b47c17a",
   "metadata": {},
   "source": [
    "# Setup"
   ]
  },
  {
   "cell_type": "code",
   "execution_count": 2,
   "id": "64fdd19d",
   "metadata": {},
   "outputs": [
    {
     "name": "stdout",
     "output_type": "stream",
     "text": [
      "Using local JSON credentials\n"
     ]
    }
   ],
   "source": [
    "credentials_path = Path('../credentials/cool-plasma-452619-v4-feb20b70d461.json')\n",
    "client, service = set_up_google_connection(credentials_path)"
   ]
  },
  {
   "cell_type": "code",
   "execution_count": 3,
   "id": "d288cd46",
   "metadata": {},
   "outputs": [],
   "source": [
    "SPREADSHEET_ID = os.environ.get('SPREADSHEET_ID')\n",
    "TEMP_FOLDER_ID = os.environ.get('TEMP_FOLDER_ID')\n",
    "REGULAR_FOLDER_ID = os.environ.get('REGULAR_FOLDER_ID')"
   ]
  },
  {
   "cell_type": "code",
   "execution_count": 4,
   "id": "492c78d6",
   "metadata": {},
   "outputs": [
    {
     "data": {
      "text/plain": [
       "[{'id': '1P7IxxT9vNULZjsNrrH-9awJp_lahNROA',\n",
       "  'name': '2115089016_2023_Nr.001_Kontoauszug.pdf'}]"
      ]
     },
     "execution_count": 4,
     "metadata": {},
     "output_type": "execute_result"
    }
   ],
   "source": [
    "acc_states = get_acc_files_from_gdrive_folder(TEMP_FOLDER_ID, service)\n",
    "acc_states"
   ]
  },
  {
   "cell_type": "code",
   "execution_count": 5,
   "id": "75a4aa0a",
   "metadata": {},
   "outputs": [
    {
     "data": {
      "text/plain": [
       "131"
      ]
     },
     "execution_count": 5,
     "metadata": {},
     "output_type": "execute_result"
    }
   ],
   "source": [
    "file_id = acc_states[0]['id']\n",
    "text = extract_text_from_pdf(file_id, service=service)\n",
    "lines = text.split('\\n')\n",
    "len(lines)"
   ]
  },
  {
   "cell_type": "code",
   "execution_count": 6,
   "id": "78cd0192",
   "metadata": {},
   "outputs": [
    {
     "name": "stdout",
     "output_type": "stream",
     "text": [
      "Old acc value, Value: 3401.18€ - Line-Index: 11\n",
      "New acc value, Value: 2972.89€ - Line-Index: 99\n",
      "Count of transactions: 17\n"
     ]
    }
   ],
   "source": [
    "acc_balance_old = get_balance_of_account(lines, 'alter Kontostand')\n",
    "acc_balance_new = get_balance_of_account(lines, 'neuer Kontostand')\n",
    "print(f'Old acc value, Value: {acc_balance_old[0]}€ - Line-Index: {acc_balance_old[1]}')\n",
    "print(f'New acc value, Value: {acc_balance_new[0]}€ - Line-Index: {acc_balance_new[1]}')\n",
    "\n",
    "all_transactions = get_all_transactions(lines, acc_balance_old[1], acc_balance_new[1])\n",
    "print(f'Count of transactions: {len(all_transactions)}')"
   ]
  },
  {
   "cell_type": "markdown",
   "id": "d3b262f9",
   "metadata": {},
   "source": [
    "# Open Spreadsheet"
   ]
  },
  {
   "cell_type": "code",
   "execution_count": 7,
   "id": "045e190a",
   "metadata": {},
   "outputs": [
    {
     "name": "stdout",
     "output_type": "stream",
     "text": [
      "2023\n",
      "Using spreadsheet ID: 1z_rr8nVFlF3PKIbO4v6xv_tSswop7sJRzRftzWzPdE8\n"
     ]
    }
   ],
   "source": [
    "year = acc_states[0]['name'].split('_')[1]\n",
    "print(year)\n",
    "SPREADSHEET_ID = os.environ.get('SPREADSHEET_ID')\n",
    "print(f'Using spreadsheet ID: {SPREADSHEET_ID}')"
   ]
  },
  {
   "cell_type": "code",
   "execution_count": 8,
   "id": "0964cca0",
   "metadata": {},
   "outputs": [],
   "source": [
    "spreadsheet = client.open_by_key(SPREADSHEET_ID)\n",
    "\n",
    "sheet_transactions = spreadsheet.worksheet('Transaktionen')\n",
    "df_sheet_transactions = pd.DataFrame(sheet_transactions.get_all_values())"
   ]
  },
  {
   "cell_type": "code",
   "execution_count": 9,
   "id": "c778111d",
   "metadata": {},
   "outputs": [],
   "source": [
    "df_sheet_transactions.columns = df_sheet_transactions.iloc[0]\n",
    "df_sheet_transactions = df_sheet_transactions[1:].reset_index(drop=True)"
   ]
  },
  {
   "cell_type": "code",
   "execution_count": 10,
   "id": "984d1f2f",
   "metadata": {},
   "outputs": [
    {
     "data": {
      "text/html": [
       "<div>\n",
       "<style scoped>\n",
       "    .dataframe tbody tr th:only-of-type {\n",
       "        vertical-align: middle;\n",
       "    }\n",
       "\n",
       "    .dataframe tbody tr th {\n",
       "        vertical-align: top;\n",
       "    }\n",
       "\n",
       "    .dataframe thead th {\n",
       "        text-align: right;\n",
       "    }\n",
       "</style>\n",
       "<table border=\"1\" class=\"dataframe\">\n",
       "  <thead>\n",
       "    <tr style=\"text-align: right;\">\n",
       "      <th></th>\n",
       "      <th>Wer</th>\n",
       "      <th>Betrag</th>\n",
       "      <th>Art</th>\n",
       "      <th>Datum</th>\n",
       "      <th>Kategorie</th>\n",
       "      <th>Hinweis</th>\n",
       "    </tr>\n",
       "  </thead>\n",
       "  <tbody>\n",
       "  </tbody>\n",
       "</table>\n",
       "</div>"
      ],
      "text/plain": [
       "Empty DataFrame\n",
       "Columns: [Wer, Betrag, Art, Datum, Kategorie, Hinweis]\n",
       "Index: []"
      ]
     },
     "execution_count": 10,
     "metadata": {},
     "output_type": "execute_result"
    }
   ],
   "source": [
    "df_sheet_transactions.head()"
   ]
  },
  {
   "cell_type": "markdown",
   "id": "f572cd63",
   "metadata": {},
   "source": [
    "# Add transactions to Gsheet -> Change!"
   ]
  },
  {
   "cell_type": "code",
   "execution_count": null,
   "id": "9b88d093",
   "metadata": {},
   "outputs": [
    {
     "name": "stdout",
     "output_type": "stream",
     "text": [
      "['02.01. 02.01. Überweisungsauftrag 507,60 S', 'Elisabeth Heuser', 'Elisabeth HeuserGolf IBAN: DE41500105175409388951 BIC: INGDDEFFXXX']\n",
      "507.6\n",
      "Ausgabe\n",
      "Elisabeth Heuser\n",
      "2023-01-02\n",
      "['02.01. 02.01. Dauerauftragsbelast 10,00 S', 'Freundeskreis Elisabeth-Hospiz e.V.', 'Freundeskreis Elisabeth-Hospiz e.V.Spende /*DA-2* IBAN: DE70370695202107385013 BIC: GENODED1RST']\n",
      "10.0\n",
      "Ausgabe\n",
      "Freundeskreis Elisabeth-Hospiz e.V.\n",
      "2023-01-02\n",
      "['02.01. 02.01. Kartenzahlung girocard 10,37 S', 'KAUFLAND', 'KAUFLANDKaufland Lohmar/Lohmar/DE31.12.2022 um 09:39:46 Uhr 61347200/159578/ECTL/37069520/2115089016/1/1225']\n",
      "10.37\n",
      "Ausgabe\n",
      "KAUFLAND\n",
      "2023-01-02\n",
      "['02.01. 02.01. Kartenzahlung girocard 254,00 S', '11teamsports Koeln GmbH', '11teamsports Koeln GmbH11teamsports Koeln GmbH/Koeln/DE30.12.2022 um 17:02:27 Uhr 60533803/11992/CICC/FPIN37069520/2115089016/1/1225 REF 743710/260047']\n",
      "254.0\n",
      "Ausgabe\n",
      "11teamsports Koeln GmbH\n",
      "2023-01-02\n",
      "['03.01. 03.01. Dauerauftragsgutschr 60,00 H', 'Heinz-Dieter Heuser', 'Heinz-Dieter HeuserTaschengeld']\n",
      "60.0\n",
      "Einnahme\n",
      "Heinz-Dieter Heuser\n",
      "2023-01-03\n",
      "['09.01. 09.01. Kartenzahlung girocard 61,03 S', 'ARAL AG', 'ARAL AGARAL K-ln Olpener Stra-e 1026/K-ln/DE06.01.2023 um 16:51:04 Uhr 71113396/771043/ECTL/NPIN37069520/2115089016/1/1225 REF 043453/000000']\n",
      "61.03\n",
      "Ausgabe\n",
      "ARAL AG\n",
      "2023-01-09\n",
      "['10.01. 10.01. Dauerauftragsbelast 10,00 S', 'Elisabeth Heuser', 'Elisabeth HeuserDAZN /*DA-1* IBAN: DE41500105175409388951 BIC: INGDDEFFXXX']\n",
      "10.0\n",
      "Ausgabe\n",
      "Elisabeth Heuser\n",
      "2023-01-10\n",
      "['11.01. 11.01. Basislastschrift 15,99 S', 'PayPal Europe S.a.r.l. et Cie S.C.A', 'PayPal Europe S.a.r.l. et Cie S.C.A1024597675926 . Thalia Bucher GmbH, Ihr Einkauf bei Thalia Bucher GmbH EREF: 1024597675926 MREF: 53E22254DUCD6 CRED: LU96ZZZ0000000000000000058']\n",
      "15.99\n",
      "Ausgabe\n",
      "PayPal Europe S.a.r.l. et Cie S.C.A\n",
      "2023-01-11\n",
      "['13.01. 13.01. Basislastschrift 200,00 S', 'Xaver Heuser', 'Xaver HeuserScalable Capital Broker 4x Sparplan EREF: 6WASSDUJDH5M9AFP6HURSN MREF: S7YUGRLXNR8QOATEPCC6WI CRED: DE63MUC00001787612']\n",
      "200.0\n",
      "Ausgabe\n",
      "Xaver Heuser\n",
      "2023-01-13\n",
      "['13.01. 13.01. Kartenzahlung girocard 58,00 S', 'HENNES OPTIK + HRGE LOHMAR', 'HENNES OPTIK + HRGE LOHMARHENNES OPTIK + HRGE LOHMAR/LOHMAR/DE12.01.2023 um 16:42:01 Uhr 64029681/008979/ECTL/NPIN37069520/2115089016/1/1225 REF 303608/260047']\n",
      "58.0\n",
      "Ausgabe\n",
      "HENNES OPTIK + HRGE LOHMAR\n",
      "2023-01-13\n",
      "['16.01. 16.01. Dauerauftragsbelast 500,00 S', 'Xaver Heuser', 'Xaver HeuserMonatliches Sparen /*DA-3* IBAN: DE63500105175586712121 BIC: INGDDEFFXXX']\n",
      "500.0\n",
      "Ausgabe\n",
      "Xaver Heuser\n",
      "2023-01-16\n",
      "['16.01. 16.01. Basislastschrift 32,99 S', 'PayPal Europe S.a.r.l. et Cie S.C.A', 'PayPal Europe S.a.r.l. et Cie S.C.A1024654452216 . Thalia Bucher GmbH, Ihr Einkauf bei Thalia Bucher GmbH EREF: 1024654452216 MREF: 53E22254DUCD6 CRED: LU96ZZZ0000000000000000058']\n",
      "32.99\n",
      "Ausgabe\n",
      "PayPal Europe S.a.r.l. et Cie S.C.A\n",
      "2023-01-16\n",
      "['16.01. 16.01. Kartenzahlung girocard 31,00 S', 'HEADCLUB Haircare for you', 'HEADCLUB Haircare for youHEADCLUB Haircare for you/LOHMAR/DE13.01.2023 um 18:19:41 Uhr 52013286/998977/ECTL/37069520/2115089016/1/1225']\n",
      "31.0\n",
      "Ausgabe\n",
      "HEADCLUB Haircare for you\n",
      "2023-01-16\n",
      "['16.01. 16.01. Kartenzahlung girocard 13,38 S', '0791 EDEKA KLEIN-HESSLING', '0791 EDEKA KLEIN-HESSLING0791 EDEKA KLEIN-HESSLING/LOHMAR/DE13.01.2023 um 17:00:31 Uhr 54505695/482541/ECTL/37069520/2115089016/1/1225']\n",
      "13.38\n",
      "Ausgabe\n",
      "0791 EDEKA KLEIN-HESSLING\n",
      "2023-01-16\n",
      "['16.01. 16.01. Lohn/Gehalt/Rente 1.006,77 H', 'Deutsche Telekom AG', 'Deutsche Telekom AGLohn/Gehalt 00601479/202301 EREF: 00601479']\n",
      "1006.77\n",
      "Einnahme\n",
      "Deutsche Telekom AG\n",
      "2023-01-16\n",
      "['19.01. 19.01. Kartenzahlung girocard 72,80 S', 'bft Lohmar', 'bft Lohmarbft Lohmar/Lohmar/DE18.01.2023 um 18:48:09 Uhr 74074206/000573/ECTL/NPIN37069520/2115089016/1/1225 REF 187901/260047']\n",
      "72.8\n",
      "Ausgabe\n",
      "bft Lohmar\n",
      "2023-01-19\n",
      "['31.01. 31.01. Lohn/Gehalt/Rente 282,10 H', 'Deutsche Post AG NL Renten Service', 'Deutsche Post AG NL Renten Service01353120768H00321 RV-RENTE 01.2023 EREF: PANR01353120768H00321']\n",
      "282.1\n",
      "Einnahme\n",
      "Deutsche Post AG NL Renten Service\n",
      "2023-01-31\n"
     ]
    }
   ],
   "source": [
    "from datetime import datetime\n",
    "for transaction_index in range(len(all_transactions)):\n",
    "    transaction = all_transactions[transaction_index]\n",
    "\n",
    "    print(transaction)\n",
    "\n",
    "    transaction_value = get_transaction_value(transaction)\n",
    "    print(transaction_value)\n",
    "    transaction_type = check_income_or_expense(transaction)\n",
    "    print(transaction_type)\n",
    "    name = transaction[1].strip()\n",
    "    print(name)\n",
    "    date_str = str(transaction[0].split(' ')[0] + year)\n",
    "    date = datetime.strptime(date_str, '%d.%m.%Y').date()\n",
    "    print(date)\n",
    "\n",
    "    df_sheet_transactions.loc[len(df_sheet_transactions)] = [name, transaction_value, transaction_type, date, None, None] # Neue Zeile\n"
   ]
  },
  {
   "cell_type": "code",
   "execution_count": 12,
   "id": "0cd4c6d3",
   "metadata": {},
   "outputs": [
    {
     "data": {
      "text/html": [
       "<div>\n",
       "<style scoped>\n",
       "    .dataframe tbody tr th:only-of-type {\n",
       "        vertical-align: middle;\n",
       "    }\n",
       "\n",
       "    .dataframe tbody tr th {\n",
       "        vertical-align: top;\n",
       "    }\n",
       "\n",
       "    .dataframe thead th {\n",
       "        text-align: right;\n",
       "    }\n",
       "</style>\n",
       "<table border=\"1\" class=\"dataframe\">\n",
       "  <thead>\n",
       "    <tr style=\"text-align: right;\">\n",
       "      <th></th>\n",
       "      <th>Wer</th>\n",
       "      <th>Betrag</th>\n",
       "      <th>Art</th>\n",
       "      <th>Datum</th>\n",
       "      <th>Kategorie</th>\n",
       "      <th>Hinweis</th>\n",
       "    </tr>\n",
       "  </thead>\n",
       "  <tbody>\n",
       "    <tr>\n",
       "      <th>-1</th>\n",
       "      <td>Deutsche Post AG NL Renten Service</td>\n",
       "      <td>282.1</td>\n",
       "      <td>Einnahme</td>\n",
       "      <td>2023-01-31</td>\n",
       "      <td>None</td>\n",
       "      <td>None</td>\n",
       "    </tr>\n",
       "  </tbody>\n",
       "</table>\n",
       "</div>"
      ],
      "text/plain": [
       "0                                  Wer  Betrag       Art       Datum  \\\n",
       "-1  Deutsche Post AG NL Renten Service   282.1  Einnahme  2023-01-31   \n",
       "\n",
       "0  Kategorie Hinweis  \n",
       "-1      None    None  "
      ]
     },
     "execution_count": 12,
     "metadata": {},
     "output_type": "execute_result"
    }
   ],
   "source": [
    "df_sheet_transactions"
   ]
  }
 ],
 "metadata": {
  "kernelspec": {
   "display_name": ".venv",
   "language": "python",
   "name": "python3"
  },
  "language_info": {
   "codemirror_mode": {
    "name": "ipython",
    "version": 3
   },
   "file_extension": ".py",
   "mimetype": "text/x-python",
   "name": "python",
   "nbconvert_exporter": "python",
   "pygments_lexer": "ipython3",
   "version": "3.12.9"
  }
 },
 "nbformat": 4,
 "nbformat_minor": 5
}
