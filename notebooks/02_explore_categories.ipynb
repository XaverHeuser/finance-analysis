{
 "cells": [
  {
   "cell_type": "code",
   "execution_count": null,
   "id": "2d0a09fb",
   "metadata": {},
   "outputs": [],
   "source": [
    "import os\n",
    "from pathlib import Path\n",
    "import sys\n",
    "\n",
    "from dotenv import load_dotenv\n",
    "import pandas as pd\n",
    "\n",
    "\n",
    "sys.path.append(os.path.abspath(os.path.join(os.getcwd(), '..')))\n",
    "\n",
    "from src.utils.google_services import set_up_google_connection"
   ]
  },
  {
   "cell_type": "code",
   "execution_count": null,
   "id": "aefdd9c4",
   "metadata": {},
   "outputs": [],
   "source": [
    "credentials_path = Path('../credentials/cool-plasma-452619-v4-feb20b70d461.json')"
   ]
  },
  {
   "cell_type": "code",
   "execution_count": null,
   "id": "994245c1",
   "metadata": {},
   "outputs": [],
   "source": [
    "client, service = set_up_google_connection(credentials_path)\n",
    "\n",
    "load_dotenv()\n",
    "SPREADSHEET_ID = os.getenv('SPREADSHEET_ID_2025')"
   ]
  },
  {
   "cell_type": "code",
   "execution_count": null,
   "id": "e174f21f",
   "metadata": {},
   "outputs": [],
   "source": [
    "spreadsheet = client.open_by_key(SPREADSHEET_ID)\n",
    "\n",
    "sheet_incomes = spreadsheet.worksheet('Einnahmen')\n",
    "sheet_expenses = spreadsheet.worksheet('Ausgaben')\n",
    "\n",
    "df_expenses = pd.DataFrame(sheet_expenses.get_all_values())\n",
    "df_incomes = pd.DataFrame(sheet_incomes.get_all_values())"
   ]
  },
  {
   "cell_type": "code",
   "execution_count": null,
   "id": "88445351",
   "metadata": {},
   "outputs": [],
   "source": [
    "df_expenses.columns = df_expenses.iloc[0]\n",
    "df_expenses = df_expenses[1:].reset_index(drop=True)\n",
    "\n",
    "df_incomes.columns = df_incomes.iloc[0]\n",
    "df_incomes = df_incomes[1:].reset_index(drop=True)\n",
    "\n",
    "gsheets = {'Expense': df_expenses, 'Income': df_incomes}"
   ]
  },
  {
   "cell_type": "code",
   "execution_count": null,
   "id": "53fd166f",
   "metadata": {},
   "outputs": [],
   "source": [
    "gsheets['Income'].head()"
   ]
  },
  {
   "cell_type": "code",
   "execution_count": null,
   "id": "7c1ea6e7",
   "metadata": {},
   "outputs": [],
   "source": [
    "month_cols = [f'{i:02}' for i in range(1, 13)]\n",
    "\n",
    "# Alles außer Ziffern und Komma/Punkt rauswerfen, dann zu Zahl\n",
    "gsheets['Income'][month_cols] = (\n",
    "    gsheets['Income'][month_cols]\n",
    "    .replace(r'[^0-9,.-]', '', regex=True)  # Währungen, Leerzeichen, etc. entfernen\n",
    "    .replace(',', '.', regex=True)  # Kommas durch Punkt ersetzen (falls Kommazahlen)\n",
    "    .apply(pd.to_numeric, errors='coerce')  # endlich in float/int umwandeln\n",
    ")\n",
    "\n",
    "# Alles außer Ziffern und Komma/Punkt rauswerfen, dann zu Zahl\n",
    "gsheets['Expense'][month_cols] = (\n",
    "    gsheets['Expense'][month_cols]\n",
    "    .replace(r'[^0-9,.-]', '', regex=True)  # Währungen, Leerzeichen, etc. entfernen\n",
    "    .replace(',', '.', regex=True)  # Kommas durch Punkt ersetzen (falls Kommazahlen)\n",
    "    .apply(pd.to_numeric, errors='coerce')  # endlich in float/int umwandeln\n",
    ")"
   ]
  },
  {
   "cell_type": "code",
   "execution_count": null,
   "id": "36c5b4f2",
   "metadata": {},
   "outputs": [],
   "source": [
    "gsheets['Income'].head()"
   ]
  },
  {
   "cell_type": "code",
   "execution_count": null,
   "id": "d84dac9d",
   "metadata": {},
   "outputs": [],
   "source": [
    "gsheets['Income'].dtypes"
   ]
  },
  {
   "cell_type": "code",
   "execution_count": null,
   "id": "43b22c32",
   "metadata": {},
   "outputs": [],
   "source": [
    "gsheets['Income']['Kategorie'].unique()"
   ]
  },
  {
   "cell_type": "markdown",
   "id": "e69493ff",
   "metadata": {},
   "source": [
    "# Questions to answer (Each Income and Expense)\n",
    "\n",
    "- What is the sum of each month? -> Bar Chart\n",
    "- What is the sum of each category? -> Pie chart"
   ]
  },
  {
   "cell_type": "code",
   "execution_count": null,
   "id": "27c98ba2",
   "metadata": {},
   "outputs": [],
   "source": [
    "import matplotlib.pyplot as plt"
   ]
  },
  {
   "cell_type": "markdown",
   "id": "b225b930",
   "metadata": {},
   "source": [
    "## What is the sum of each month?"
   ]
  },
  {
   "cell_type": "code",
   "execution_count": null,
   "id": "0663c8bd",
   "metadata": {},
   "outputs": [],
   "source": [
    "# Income\n",
    "income_per_month = gsheets['Income'][month_cols].sum()\n",
    "df_income_per_month = pd.DataFrame([income_per_month], index=['Income'])\n",
    "\n",
    "# Expense\n",
    "expense_per_month = gsheets['Expense'][month_cols].sum()\n",
    "df_expense_per_month = pd.DataFrame([expense_per_month], index=['Expense'])\n",
    "\n",
    "df_all_sums = pd.concat([df_income_per_month, df_expense_per_month])\n",
    "df_all_sums"
   ]
  },
  {
   "cell_type": "code",
   "execution_count": null,
   "id": "6cff5fc9",
   "metadata": {},
   "outputs": [],
   "source": [
    "df_all_sums.T.plot(kind='line', marker='o', figsize=(10, 6))\n",
    "plt.title('Income vs. Expense per Month')\n",
    "plt.xlabel('Month')\n",
    "plt.ylabel('Amount (€)')\n",
    "plt.grid(True)\n",
    "plt.show()"
   ]
  },
  {
   "cell_type": "code",
   "execution_count": null,
   "id": "2d6439a4",
   "metadata": {},
   "outputs": [],
   "source": [
    "df_all_sums.T.plot(kind='bar', figsize=(12, 6))\n",
    "plt.title('Monthly Income vs. Expense')\n",
    "plt.xlabel('Month')\n",
    "plt.ylabel('Amount (€)')\n",
    "plt.legend(title='')\n",
    "plt.tight_layout()\n",
    "plt.show()"
   ]
  },
  {
   "cell_type": "code",
   "execution_count": null,
   "id": "912e30b6",
   "metadata": {},
   "outputs": [],
   "source": [
    "(df_all_sums.loc['Income'] - df_all_sums.loc['Expense']).plot(\n",
    "    kind='bar', color='green', figsize=(10, 6)\n",
    ")\n",
    "plt.axhline(0, color='red', linestyle='--')\n",
    "plt.title('Net Income (Profit/Loss) per Month')\n",
    "plt.xlabel('Month')\n",
    "plt.ylabel('Net Income (€)')\n",
    "plt.tight_layout()\n",
    "plt.show()"
   ]
  },
  {
   "cell_type": "code",
   "execution_count": null,
   "id": "bcf9015f",
   "metadata": {},
   "outputs": [],
   "source": [
    "totals = df_all_sums.sum(axis=1)\n",
    "totals['Net Income'] = totals['Income'] - totals['Expense']\n",
    "\n",
    "print(totals)\n",
    "\n",
    "totals.plot(kind='bar', color=['blue', 'red', 'green'], figsize=(8, 5))\n",
    "plt.title('Yearly Totals: Income, Expense, Net Income')\n",
    "plt.ylabel('Amount (€)')\n",
    "plt.xticks(rotation=0)\n",
    "plt.tight_layout()\n",
    "plt.show()"
   ]
  },
  {
   "cell_type": "markdown",
   "id": "3eee3ec4",
   "metadata": {},
   "source": [
    "## What is the sum of each category?"
   ]
  },
  {
   "cell_type": "markdown",
   "id": "c89fa3d4",
   "metadata": {},
   "source": [
    "### Income"
   ]
  },
  {
   "cell_type": "code",
   "execution_count": null,
   "id": "b3ebafe0",
   "metadata": {},
   "outputs": [],
   "source": [
    "income_per_cat = gsheets['Income'].groupby('Kategorie')[month_cols].sum()\n",
    "income_per_cat['Total'] = income_per_cat.sum(axis=1)\n",
    "df_income = income_per_cat.reset_index()[['Kategorie', 'Total']]"
   ]
  },
  {
   "cell_type": "code",
   "execution_count": null,
   "id": "b3254b1b",
   "metadata": {},
   "outputs": [],
   "source": [
    "# PieChart zeichnen\n",
    "plt.figure(figsize=(8, 8))\n",
    "plt.pie(\n",
    "    df_income['Total'],\n",
    "    labels=df_income['Kategorie'],\n",
    "    autopct='%1.1f%%',\n",
    "    startangle=90,\n",
    "    counterclock=False,\n",
    ")\n",
    "plt.title('Anteil Gesamt pro Kategorie')\n",
    "plt.tight_layout()\n",
    "plt.show()"
   ]
  },
  {
   "cell_type": "markdown",
   "id": "e7f4f2fe",
   "metadata": {},
   "source": [
    "### Expense"
   ]
  },
  {
   "cell_type": "code",
   "execution_count": null,
   "id": "d90cc5bf",
   "metadata": {},
   "outputs": [],
   "source": [
    "expense_per_cat = gsheets['Expense'].groupby('Kategorie')[month_cols].sum()\n",
    "expense_per_cat['Total'] = expense_per_cat.sum(axis=1)\n",
    "df_expense = expense_per_cat.reset_index()[['Kategorie', 'Total']]"
   ]
  },
  {
   "cell_type": "code",
   "execution_count": null,
   "id": "6d62ca42",
   "metadata": {},
   "outputs": [],
   "source": [
    "df_expense.sort_values(by='Total', ascending=False)"
   ]
  },
  {
   "cell_type": "code",
   "execution_count": null,
   "id": "94e2522e",
   "metadata": {},
   "outputs": [],
   "source": [
    "plt.figure(figsize=(8, 8))\n",
    "plt.pie(\n",
    "    df_expense['Total'],\n",
    "    labels=df_expense['Kategorie'],\n",
    "    autopct='%1.1f%%',\n",
    "    startangle=90,\n",
    "    counterclock=False,\n",
    ")\n",
    "plt.title('Anteil Gesamt pro Kategorie')\n",
    "plt.tight_layout()\n",
    "plt.show()"
   ]
  }
 ],
 "metadata": {
  "kernelspec": {
   "display_name": ".venv",
   "language": "python",
   "name": "python3"
  },
  "language_info": {
   "codemirror_mode": {
    "name": "ipython",
    "version": 3
   },
   "file_extension": ".py",
   "mimetype": "text/x-python",
   "name": "python",
   "nbconvert_exporter": "python",
   "pygments_lexer": "ipython3",
   "version": "3.12.9"
  }
 },
 "nbformat": 4,
 "nbformat_minor": 5
}
